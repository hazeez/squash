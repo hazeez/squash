{
 "cells": [
  {
   "cell_type": "code",
   "execution_count": 6,
   "metadata": {
    "collapsed": false
   },
   "outputs": [
    {
     "name": "stdout",
     "output_type": "stream",
     "text": [
      "FCIS_7.0.0.0.0$PERMMY_R20\n",
      "FCIS6.5.0.0.0$HSBCHK_R61\n",
      "FCUBS11.1.0.1.0$NMIBTZ_R3\n",
      "FLEXCUBE@VJR3.4.0.0.0$JBUNJP\n",
      " FCIS6.5.0.0.0$HSBCHK_R61\n",
      "FCUBS_10.5.0.0.0$BNTBUS_R19\n",
      "FCUBS_12.0.2.0.0$EGPNBE_R1\n",
      "FCUBS_3.3.0.0.0$CITIBK_R716\n",
      "FCUBS_7.1.0.0.0$EFGBRS_R19\n",
      "FCUBS_12.0.2.0.0$ABNGNG_R4\n"
     ]
    }
   ],
   "source": [
    "import django\n",
    "from django.conf import settings\n",
    "from squashapp.models import ProjectDatabase\n",
    "projects = ProjectDatabase.objects.all()\n",
    "for project in projects:\n",
    "    print project"
   ]
  },
  {
   "cell_type": "code",
   "execution_count": 12,
   "metadata": {
    "collapsed": false
   },
   "outputs": [
    {
     "name": "stdout",
     "output_type": "stream",
     "text": [
      "SquashappSerializer():\n",
      "    project_release_name = CharField(max_length=30, validators=[<UniqueValidator(queryset=ProjectDatabase.objects.all())>])\n",
      "    project_uid = CharField(max_length=15)\n",
      "    project_class = ChoiceField(choices=[('IT', 'IT'), ('IUT', 'IUT'), ('CCB', 'CCB')])\n",
      "    project_primary_sqa = CharField(max_length=30)\n",
      "    project_region = ChoiceField(choices=[('AME', 'Americas'), ('JAP', 'JAPAC'), ('EUR', 'Europe')])\n",
      "    project_start_date = DateField(required=False)\n",
      "    project_end_date = DateField(required=False)\n",
      "    project_duration = IntegerField(required=False)\n"
     ]
    }
   ],
   "source": [
    "from squashapp.serializers import SquashappSerializer\n",
    "serializer = SquashappSerializer()\n",
    "print repr(serializer)"
   ]
  },
  {
   "cell_type": "code",
   "execution_count": 8,
   "metadata": {
    "collapsed": false
   },
   "outputs": [
    {
     "name": "stdout",
     "output_type": "stream",
     "text": [
      "FCIS_7.0.0.0.0$PERMMY_R20\n"
     ]
    }
   ],
   "source": [
    "sunpro = ProjectDatabase.objects.get(project_uid=8256)\n",
    "print sunpro"
   ]
  },
  {
   "cell_type": "code",
   "execution_count": 9,
   "metadata": {
    "collapsed": true
   },
   "outputs": [],
   "source": [
    "sunproname = ProjectDatabase.objects.get(project_release_name='FCIS_7.0.0.0.0$PERMMY_R20')"
   ]
  },
  {
   "cell_type": "code",
   "execution_count": 11,
   "metadata": {
    "collapsed": false
   },
   "outputs": [
    {
     "name": "stdout",
     "output_type": "stream",
     "text": [
      "8256\n"
     ]
    }
   ],
   "source": [
    "print sunproname.project_uid"
   ]
  },
  {
   "cell_type": "code",
   "execution_count": 13,
   "metadata": {
    "collapsed": false
   },
   "outputs": [
    {
     "name": "stdout",
     "output_type": "stream",
     "text": [
      "{'project_class': None, 'project_end_date': None, 'project_uid': u'', 'project_start_date': None, 'project_region': None, 'project_primary_sqa': u'', 'project_duration': None, 'project_release_name': u''}\n"
     ]
    }
   ],
   "source": [
    "print serializer.data"
   ]
  },
  {
   "cell_type": "code",
   "execution_count": 48,
   "metadata": {
    "collapsed": false
   },
   "outputs": [
    {
     "name": "stdout",
     "output_type": "stream",
     "text": [
      "{'project_class': 'IT', 'project_end_date': '2015-06-30', 'project_uid': u'8256', 'project_start_date': '2015-05-30', 'project_region': 'EUR', 'project_primary_sqa': u'sunanda.mishra', 'project_duration': 30, 'project_release_name': u'FCIS_7.0.0.0.0$PERMMY_R20'}\n"
     ]
    },
    {
     "data": {
      "text/plain": [
       "rest_framework.utils.serializer_helpers.ReturnDict"
      ]
     },
     "execution_count": 48,
     "metadata": {},
     "output_type": "execute_result"
    }
   ],
   "source": [
    "projects = ProjectDatabase.objects.get(project_uid=8256)\n",
    "serializer = SquashappSerializer(projects)\n",
    "data1 = serializer.data\n",
    "print data1\n",
    "type(data1)"
   ]
  },
  {
   "cell_type": "code",
   "execution_count": 33,
   "metadata": {
    "collapsed": true
   },
   "outputs": [],
   "source": [
    "from rest_framework.renderers import JSONRenderer\n",
    "from rest_framework.parsers import JSONParser"
   ]
  },
  {
   "cell_type": "code",
   "execution_count": 41,
   "metadata": {
    "collapsed": false
   },
   "outputs": [
    {
     "name": "stdout",
     "output_type": "stream",
     "text": [
      "{\"project_release_name\":\"FCIS_7.0.0.0.0$PERMMY_R20\",\"project_uid\":\"8256\",\"project_class\":\"IT\",\"project_primary_sqa\":\"sunanda.mishra\",\"project_region\":\"EUR\",\"project_start_date\":\"2015-05-30\",\"project_end_date\":\"2015-06-30\",\"project_duration\":30}\n"
     ]
    },
    {
     "data": {
      "text/plain": [
       "str"
      ]
     },
     "execution_count": 41,
     "metadata": {},
     "output_type": "execute_result"
    }
   ],
   "source": [
    "content = JSONRenderer().render(data1)\n",
    "print content\n",
    "type(content)"
   ]
  },
  {
   "cell_type": "code",
   "execution_count": 28,
   "metadata": {
    "collapsed": true
   },
   "outputs": [],
   "source": [
    "content = {\"project_release_name\":\"FCIS_7.0.0.0.0$PERMMY_R20\",\"project_uid\":\"8256\",\"project_class\":\"IT\",\"project_primary_sqa\":\"sunanda.mishra\",\"project_region\":\"EUR\",\"project_start_date\":\"2015-05-30\",\"project_end_date\":\"2015-06-30\",\"project_duration\":31}"
   ]
  },
  {
   "cell_type": "code",
   "execution_count": 44,
   "metadata": {
    "collapsed": false
   },
   "outputs": [
    {
     "name": "stdout",
     "output_type": "stream",
     "text": [
      "<StringIO.StringIO instance at 0x3326560>\n"
     ]
    }
   ],
   "source": [
    "from django.utils.six import BytesIO\n",
    "stream = BytesIO(content)\n",
    "print stream"
   ]
  },
  {
   "cell_type": "code",
   "execution_count": 45,
   "metadata": {
    "collapsed": false
   },
   "outputs": [
    {
     "data": {
      "text/plain": [
       "instance"
      ]
     },
     "execution_count": 45,
     "metadata": {},
     "output_type": "execute_result"
    }
   ],
   "source": [
    "type(stream)"
   ]
  },
  {
   "cell_type": "code",
   "execution_count": 47,
   "metadata": {
    "collapsed": false
   },
   "outputs": [
    {
     "ename": "ParseError",
     "evalue": "JSON parse error - No JSON object could be decoded",
     "output_type": "error",
     "traceback": [
      "\u001b[1;31m---------------------------------------------------------------------------\u001b[0m",
      "\u001b[1;31mParseError\u001b[0m                                Traceback (most recent call last)",
      "\u001b[1;32m<ipython-input-47-bc35e7f5a174>\u001b[0m in \u001b[0;36m<module>\u001b[1;34m()\u001b[0m\n\u001b[1;32m----> 1\u001b[1;33m \u001b[0mdata\u001b[0m \u001b[1;33m=\u001b[0m \u001b[0mJSONParser\u001b[0m\u001b[1;33m(\u001b[0m\u001b[1;33m)\u001b[0m\u001b[1;33m.\u001b[0m\u001b[0mparse\u001b[0m\u001b[1;33m(\u001b[0m\u001b[0mstream\u001b[0m\u001b[1;33m)\u001b[0m\u001b[1;33m\u001b[0m\u001b[0m\n\u001b[0m\u001b[0;32m      2\u001b[0m \u001b[0mtype\u001b[0m\u001b[1;33m(\u001b[0m\u001b[0mdata\u001b[0m\u001b[1;33m)\u001b[0m\u001b[1;33m\u001b[0m\u001b[0m\n\u001b[0;32m      3\u001b[0m \u001b[1;32mprint\u001b[0m \u001b[0mdata\u001b[0m\u001b[1;33m\u001b[0m\u001b[0m\n",
      "\u001b[1;32m/home/hac/Envs/squash-dev/lib/python2.7/site-packages/rest_framework/parsers.pyc\u001b[0m in \u001b[0;36mparse\u001b[1;34m(self, stream, media_type, parser_context)\u001b[0m\n\u001b[0;32m     62\u001b[0m             \u001b[1;32mreturn\u001b[0m \u001b[0mjson\u001b[0m\u001b[1;33m.\u001b[0m\u001b[0mloads\u001b[0m\u001b[1;33m(\u001b[0m\u001b[0mdata\u001b[0m\u001b[1;33m)\u001b[0m\u001b[1;33m\u001b[0m\u001b[0m\n\u001b[0;32m     63\u001b[0m         \u001b[1;32mexcept\u001b[0m \u001b[0mValueError\u001b[0m \u001b[1;32mas\u001b[0m \u001b[0mexc\u001b[0m\u001b[1;33m:\u001b[0m\u001b[1;33m\u001b[0m\u001b[0m\n\u001b[1;32m---> 64\u001b[1;33m             \u001b[1;32mraise\u001b[0m \u001b[0mParseError\u001b[0m\u001b[1;33m(\u001b[0m\u001b[1;34m'JSON parse error - %s'\u001b[0m \u001b[1;33m%\u001b[0m \u001b[0msix\u001b[0m\u001b[1;33m.\u001b[0m\u001b[0mtext_type\u001b[0m\u001b[1;33m(\u001b[0m\u001b[0mexc\u001b[0m\u001b[1;33m)\u001b[0m\u001b[1;33m)\u001b[0m\u001b[1;33m\u001b[0m\u001b[0m\n\u001b[0m\u001b[0;32m     65\u001b[0m \u001b[1;33m\u001b[0m\u001b[0m\n\u001b[0;32m     66\u001b[0m \u001b[1;33m\u001b[0m\u001b[0m\n",
      "\u001b[1;31mParseError\u001b[0m: JSON parse error - No JSON object could be decoded"
     ]
    }
   ],
   "source": [
    "data = JSONParser().parse(stream)\n",
    "type(data)\n",
    "print data"
   ]
  },
  {
   "cell_type": "code",
   "execution_count": 54,
   "metadata": {
    "collapsed": false
   },
   "outputs": [
    {
     "name": "stdout",
     "output_type": "stream",
     "text": [
      "SquashappSerializer([<ProjectDatabase: FCIS6.5.0.0.0$HSBCHK_R61>, <ProjectDatabase: FCUBS11.1.0.1.0$NMIBTZ_R3>, <ProjectDatabase: FLEXCUBE@VJR3.4.0.0.0$JBUNJP>, <ProjectDatabase:  FCIS6.5.0.0.0$HSBCHK_R61>, <ProjectDatabase: FCUBS_10.5.0.0.0$BNTBUS_R19>, <ProjectDatabase: FCUBS_12.0.2.0.0$EGPNBE_R1>, <ProjectDatabase: FCUBS_3.3.0.0.0$CITIBK_R716>, <ProjectDatabase: FCUBS_7.1.0.0.0$EFGBRS_R19>, <ProjectDatabase: FCUBS_12.0.2.0.0$ABNGNG_R4>, <ProjectDatabase: FCIS_7.0.0.0.0$PERMMY_R20>], many=True):\n",
      "    project_release_name = CharField(max_length=30, validators=[<UniqueValidator(queryset=ProjectDatabase.objects.all())>])\n",
      "    project_uid = CharField(max_length=15)\n",
      "    project_class = ChoiceField(choices=[('IT', 'IT'), ('IUT', 'IUT'), ('CCB', 'CCB')])\n",
      "    project_primary_sqa = CharField(max_length=30)\n",
      "    project_region = ChoiceField(choices=[('AME', 'Americas'), ('JAP', 'JAPAC'), ('EUR', 'Europe')])\n",
      "    project_start_date = DateField(required=False)\n",
      "    project_end_date = DateField(required=False)\n",
      "    project_duration = IntegerField(required=False)\n"
     ]
    },
    {
     "data": {
      "text/plain": [
       "rest_framework.utils.serializer_helpers.ReturnList"
      ]
     },
     "execution_count": 54,
     "metadata": {},
     "output_type": "execute_result"
    }
   ],
   "source": [
    "serializer = SquashappSerializer(ProjectDatabase.objects.all(), many=True)\n",
    "print serializer\n",
    "type(serializer)\n",
    "type(serializer.data)"
   ]
  },
  {
   "cell_type": "code",
   "execution_count": 55,
   "metadata": {
    "collapsed": false
   },
   "outputs": [
    {
     "data": {
      "text/plain": [
       "str"
      ]
     },
     "execution_count": 55,
     "metadata": {},
     "output_type": "execute_result"
    }
   ],
   "source": [
    "content = JSONRenderer().render(serializer.data)\n",
    "type(content)"
   ]
  },
  {
   "cell_type": "code",
   "execution_count": 58,
   "metadata": {
    "collapsed": false
   },
   "outputs": [
    {
     "name": "stdout",
     "output_type": "stream",
     "text": [
      "[{u'project_class': u'IUT', u'project_end_date': u'2015-07-31', u'project_uid': u'300436050', u'project_start_date': u'2015-06-30', u'project_region': u'EUR', u'project_primary_sqa': u'sunanda.mishra', u'project_duration': 31, u'project_release_name': u'FCIS6.5.0.0.0$HSBCHK_R61'}, {u'project_class': u'IT', u'project_end_date': u'2015-06-30', u'project_uid': u'7945', u'project_start_date': u'2015-04-16', u'project_region': u'EUR', u'project_primary_sqa': u'priyanka.pandey', u'project_duration': 75, u'project_release_name': u'FCUBS11.1.0.1.0$NMIBTZ_R3'}, {u'project_class': u'IUT', u'project_end_date': u'2015-06-30', u'project_uid': u'7953', u'project_start_date': u'2015-05-01', u'project_region': u'JAP', u'project_primary_sqa': u'obi.ravi', u'project_duration': 60, u'project_release_name': u'FLEXCUBE@VJR3.4.0.0.0$JBUNJP'}, {u'project_class': u'CCB', u'project_end_date': u'2015-06-30', u'project_uid': u'300436050', u'project_start_date': u'2015-06-01', u'project_region': u'EUR', u'project_primary_sqa': u'sunanda.mishra', u'project_duration': 30, u'project_release_name': u' FCIS6.5.0.0.0$HSBCHK_R61'}, {u'project_class': u'IUT', u'project_end_date': u'2015-06-30', u'project_uid': u'6669,6819', u'project_start_date': u'2015-05-15', u'project_region': u'AME', u'project_primary_sqa': u'sharmila.subramani', u'project_duration': 45, u'project_release_name': u'FCUBS_10.5.0.0.0$BNTBUS_R19'}, {u'project_class': u'IUT', u'project_end_date': u'2015-04-10', u'project_uid': u'2958', u'project_start_date': u'2015-03-01', u'project_region': u'EUR', u'project_primary_sqa': u'priyanka.pandey', u'project_duration': 40, u'project_release_name': u'FCUBS_12.0.2.0.0$EGPNBE_R1'}, {u'project_class': u'CCB', u'project_end_date': u'2015-05-20', u'project_uid': u'7751', u'project_start_date': u'2015-04-25', u'project_region': u'JAP', u'project_primary_sqa': u'rahatul.huda', u'project_duration': 25, u'project_release_name': u'FCUBS_3.3.0.0.0$CITIBK_R716'}, {u'project_class': u'IUT', u'project_end_date': u'2015-06-30', u'project_uid': u'30045196', u'project_start_date': u'2015-03-31', u'project_region': u'EUR', u'project_primary_sqa': u'tripti.prasad', u'project_duration': 90, u'project_release_name': u'FCUBS_7.1.0.0.0$EFGBRS_R19'}, {u'project_class': u'IT', u'project_end_date': u'2015-06-30', u'project_uid': u'7784', u'project_start_date': u'2015-03-28', u'project_region': u'EUR', u'project_primary_sqa': u'sunanda.mishra', u'project_duration': 88, u'project_release_name': u'FCUBS_12.0.2.0.0$ABNGNG_R4'}, {u'project_class': u'IT', u'project_end_date': u'2015-06-30', u'project_uid': u'8256', u'project_start_date': u'2015-05-30', u'project_region': u'EUR', u'project_primary_sqa': u'sunanda.mishra', u'project_duration': 30, u'project_release_name': u'FCIS_7.0.0.0.0$PERMMY_R20'}]\n"
     ]
    },
    {
     "data": {
      "text/plain": [
       "list"
      ]
     },
     "execution_count": 58,
     "metadata": {},
     "output_type": "execute_result"
    }
   ],
   "source": [
    "from django.utils.six import BytesIO\n",
    "\n",
    "stream = BytesIO(content)\n",
    "data = JSONParser().parse(stream)\n",
    "print data\n",
    "type(data)"
   ]
  },
  {
   "cell_type": "code",
   "execution_count": 59,
   "metadata": {
    "collapsed": true
   },
   "outputs": [],
   "source": [
    "serializer = SquashappSerializer(data=data)"
   ]
  },
  {
   "cell_type": "code",
   "execution_count": 60,
   "metadata": {
    "collapsed": false
   },
   "outputs": [
    {
     "data": {
      "text/plain": [
       "False"
      ]
     },
     "execution_count": 60,
     "metadata": {},
     "output_type": "execute_result"
    }
   ],
   "source": [
    "serializer.is_valid()"
   ]
  },
  {
   "cell_type": "code",
   "execution_count": 61,
   "metadata": {
    "collapsed": false
   },
   "outputs": [
    {
     "data": {
      "text/plain": [
       "{}"
      ]
     },
     "execution_count": 61,
     "metadata": {},
     "output_type": "execute_result"
    }
   ],
   "source": [
    "serializer.validated_data"
   ]
  },
  {
   "cell_type": "code",
   "execution_count": 62,
   "metadata": {
    "collapsed": false
   },
   "outputs": [
    {
     "ename": "AssertionError",
     "evalue": "You cannot call `.save()` on a serializer with invalid data.",
     "output_type": "error",
     "traceback": [
      "\u001b[1;31m---------------------------------------------------------------------------\u001b[0m",
      "\u001b[1;31mAssertionError\u001b[0m                            Traceback (most recent call last)",
      "\u001b[1;32m<ipython-input-62-4331cc8dc1b8>\u001b[0m in \u001b[0;36m<module>\u001b[1;34m()\u001b[0m\n\u001b[1;32m----> 1\u001b[1;33m \u001b[0mserializer\u001b[0m\u001b[1;33m.\u001b[0m\u001b[0msave\u001b[0m\u001b[1;33m(\u001b[0m\u001b[1;33m)\u001b[0m\u001b[1;33m\u001b[0m\u001b[0m\n\u001b[0m",
      "\u001b[1;32m/home/hac/Envs/squash-dev/lib/python2.7/site-packages/rest_framework/serializers.pyc\u001b[0m in \u001b[0;36msave\u001b[1;34m(self, **kwargs)\u001b[0m\n\u001b[0;32m    153\u001b[0m \u001b[1;33m\u001b[0m\u001b[0m\n\u001b[0;32m    154\u001b[0m         assert not self.errors, (\n\u001b[1;32m--> 155\u001b[1;33m             \u001b[1;34m'You cannot call `.save()` on a serializer with invalid data.'\u001b[0m\u001b[1;33m\u001b[0m\u001b[0m\n\u001b[0m\u001b[0;32m    156\u001b[0m         )\n\u001b[0;32m    157\u001b[0m \u001b[1;33m\u001b[0m\u001b[0m\n",
      "\u001b[1;31mAssertionError\u001b[0m: You cannot call `.save()` on a serializer with invalid data."
     ]
    }
   ],
   "source": [
    "serializer.save()"
   ]
  },
  {
   "cell_type": "code",
   "execution_count": 68,
   "metadata": {
    "collapsed": false
   },
   "outputs": [
    {
     "data": {
      "text/plain": [
       "False"
      ]
     },
     "execution_count": 68,
     "metadata": {},
     "output_type": "execute_result"
    }
   ],
   "source": [
    "serializer = SquashappSerializer(ProjectDatabase.objects.all(), many=True)\n",
    "data = serializer.data\n",
    "deserial = SquashappSerializer(data=data)\n",
    "deserial.is_valid()"
   ]
  },
  {
   "cell_type": "code",
   "execution_count": null,
   "metadata": {
    "collapsed": true
   },
   "outputs": [],
   "source": []
  }
 ],
 "metadata": {
  "kernelspec": {
   "display_name": "Python 2",
   "language": "python",
   "name": "python2"
  },
  "language_info": {
   "codemirror_mode": {
    "name": "ipython",
    "version": 2
   },
   "file_extension": ".py",
   "mimetype": "text/x-python",
   "name": "python",
   "nbconvert_exporter": "python",
   "pygments_lexer": "ipython2",
   "version": "2.7.5"
  }
 },
 "nbformat": 4,
 "nbformat_minor": 0
}
