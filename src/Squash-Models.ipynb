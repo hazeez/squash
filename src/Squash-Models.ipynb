{
 "cells": [
  {
   "cell_type": "code",
   "execution_count": 1,
   "metadata": {
    "collapsed": false
   },
   "outputs": [
    {
     "name": "stdout",
     "output_type": "stream",
     "text": [
      "/home/hac/My-Code/squash/src\n",
      "FCIS_7.0.0.0.0$PERMMY_R20\n",
      "FCUBS_10.5.0.0.0$BNTBUS_R19\n",
      "FLEXCUBE@VJR3.4.0.0.0$JBUNJP\n",
      "FCIS6.5.0.0.0$HSBCHK_R61\n",
      " FCIS6.5.0.0.0$HSBCHK_R61\n",
      "FCUBS11.1.0.1.0$NMIBTZ_R3\n",
      "FCUBS_12.0.2.0.0$EGPNBE_R1\n",
      "FCUBS_3.3.0.0.0$CITIBK_R716\n",
      "FCUBS_7.1.0.0.0$EFGBRS_R19\n",
      "FCUBS_12.0.2.0.0$ABNGNG_R4\n"
     ]
    }
   ],
   "source": [
    "import django\n",
    "from django.conf import settings\n",
    "from squashapp.models import ProjectDatabase\n",
    "projects = ProjectDatabase.objects.all()\n",
    "for project in projects:\n",
    "    print project"
   ]
  },
  {
   "cell_type": "code",
   "execution_count": null,
   "metadata": {
    "collapsed": true
   },
   "outputs": [],
   "source": []
  }
 ],
 "metadata": {
  "kernelspec": {
   "display_name": "Python 2",
   "language": "python",
   "name": "python2"
  },
  "language_info": {
   "codemirror_mode": {
    "name": "ipython",
    "version": 2
   },
   "file_extension": ".py",
   "mimetype": "text/x-python",
   "name": "python",
   "nbconvert_exporter": "python",
   "pygments_lexer": "ipython2",
   "version": "2.7.5"
  }
 },
 "nbformat": 4,
 "nbformat_minor": 0
}
